{
  "cells": [
    {
      "cell_type": "markdown",
      "source": [
        "# **Image Based Deep Learning Techniques Coursework**\n",
        "## **Question 1**"
      ],
      "metadata": {
        "id": "a0Ims1VqCXi-"
      }
    },
    {
      "cell_type": "markdown",
      "source": [
        "###**Breakdown of the code:**\n",
        "\n",
        "1. Import the following libraries: **numpy, urllib, tarfile, pickle, matplotlib.pyplot**.\n",
        "2. Using the specified URL, download and extract the CIFAR-10 dataset. The photos in the dataset are separated into training and test sets.\n",
        "3. Create a method called 'load_data' that will load the CIFAR-10 dataset from the extracted files. The function concatenates data and labels from numerous batch files into a single dataset.\n",
        "4. Create a function called **'preprocess_data'** to handle the loaded data. The function transforms the labels to one-hot encoded vectors after normalising the picture data between 0 and 1.\n",
        "5. Define the activation functions \"relu\" and \"sigmoid.\"\n",
        "6. Define the **'forward_propagation'** function. To calculate the neural network's output, it executes matrix multiplications and uses activation functions.\n",
        "7. Using cross-entropy loss, define the loss function **'compute_loss'**.\n",
        "8. Define the **'backward_propagation'** backward propagation function. Using the output, labels, and intermediate activations, it computes the gradients of the weights and biases.\n",
        "9. Create the training function **'train_model'**, which will be used to train the neural network using stochastic gradient descent (SGD) with learning rate decay. It sets up the weights and biases, conducts forward and backward propagation for each sample, changes the parameters, and monitors the loss and accuracy over time.\n",
        "10. Use the **'load_data'** method to load the CIFAR-10 dataset.\n",
        "11. Use the **'preprocess_data'** function to preprocess the CIFAR-10 dataset.\n",
        "12. Flatten the picture data to create a 1D array for each image.\n",
        "13. Use the **'train_model'** function to train the model with the supplied number of epochs, learning rate, step size, and decay rate.\n",
        "\n",
        "The code prints the loss and accuracy every ten epochs and plots the loss and accuracy over epochs with matplotlib."
      ],
      "metadata": {
        "id": "lm52RvObN1FE"
      }
    },
    {
      "cell_type": "markdown",
      "source": [
        "###**Explanation of the Math:**\n",
        "\n",
        "1. **'relu(x)'**: The activation function of the ReLU (Rectified Linear Unit) is specified as 'np.maximum(0, x)'. It accepts 'x' as an input and returns the element-wise maximum of 'x' and 0. In other words, it substitutes negative numbers with 0 while leaving positive ones alone. This adds nonlinearity to the network and aids in the detection of complicated patterns in data.\n",
        "\n",
        "\n",
        "2. **sigmoid activation** function is defined as 1.0/(1.0 + np.exp(-x)). It takes an x as an input and applies the sigmoid function on it. The sigmoid function transfers any real integer to the range (0, 1), which can then be interpreted as a probability. It is often employed as an activation function in the output layer of binary classification problems, where it can reflect the probability of a sample belonging to a certain class.\n",
        "\n",
        "\n",
        "3. **Forward propagation**: Given the input data and the current set of weights and biases, the 'forward_propagation' function computes the output of a neural network.\n",
        "    - 'z2 = np.dot(W1, X) + b1': This line computes the weighted sum of the inputs 'X' by multiplying them by the first layer's weights 'W1' and then adding the biases 'b1'.\n",
        "    - 'a2 = relu(z2)': This line introduces non-linearity by applying the ReLU activation function to the intermediate variables 'z2'.\n",
        "    - 'z3 = np.dot(W2, a2) + b2': This line computes the weighted sum of the activations 'a2' by multiplying them by the second layer's weights 'W2' and then adding the biases 'b2'.\n",
        "    - 'output = sigmoid(z3)': This line applies the sigmoid activation function to the network's final values 'z3', resulting in the network's output.\n",
        "\n",
        "\n",
        "4. **Loss function**: The 'compute_loss' function computes the difference between the predicted and true labels. The binary cross-entropy loss formula is used.\n",
        "    - 'epsilon = 1e-8': A minor number is supplied to prevent numerical instability while calulating the logarithm.\n",
        "    - 'loss = -np.mean(y * np.log(output + epsilon) + (1 - y) * np.log(1 - output + epsilon))': The loss is calculated using the formula 'y * log(output) - (1 - y) * log(1 - output)'. It compares anticipated 'output' to genuine labels 'y' and penalises significant inaccuracies.\n",
        "\n",
        "\n",
        "\n",
        "5. **Backpropagation**: By propagating the loss backward through the network, the 'backward_propagation' function determines the gradients of the weights and biases.\n",
        "    - 'delta3 = output - y': The error at the output layer is calculated by subtracting the true labels 'y' from the anticipated output.\n",
        "    - 'delta2 = np.dot(W2.T, delta3) * (a2 > 0)': The error at the hidden layer is computed by backpropagating the error 'delta3' through the weights 'W2' and the ReLU activation function.\n",
        "    - 'dW2 = np.dot(delta3, a2.T)': This line computes the gradient of the weights 'W2' by taking the outer product of 'delta3' and 'a2'.\n",
        "    - 'db2 = np.sum(delta3, axis=1, keepdims=True)': This line computes the gradient of the bias 'b2' by adding the error 'delta3' along the axis 1.\n",
        "    - 'dW1 = np.dot(delta2, X.T)': This line computes the gradient of weight 'W1' by performing the outer product of 'delta2' and the input 'X'.\n",
        "    - 'db1 = np.sum(delta2, axis=1, keepdims=True)': This line computes the gradient of bias 'b1' by summing the error 'delta2' along axis 1.\n",
        "\n",
        "6. **Stochastic Gradient Descent (SGD) with learning rate decay**: The 'train_model' function implemets the SGD method with learning rate decay. \n",
        "    - 'learning_rate *= 1.0 / (1.0 + decay_rate * epoch)': Decreases the learning rate by multiplying it by the reciprocal of '(1 + decay_rate * epoch). The learning rate reduces as the epoch number increases.\n",
        "    - 'W1 = W1 - learning_rate * dW1', 'b1 = b1 - learning_rate * db1', 'W2 = W2 - learning_rate * dW2', 'b2 = b2 - learning_rate * db2': These lines update the weights and biasees by multiplying them by the learning rate, and then backpropogation is used to compute gradients."
      ],
      "metadata": {
        "id": "z9U9tHNmOJza"
      }
    },
    {
      "cell_type": "code",
      "execution_count": null,
      "metadata": {
        "colab": {
          "background_save": true,
          "base_uri": "https://localhost:8080/"
        },
        "id": "3wzdWDKRmNCD",
        "outputId": "d54f9fe5-4f86-49a8-f0c0-949113ef1556"
      },
      "outputs": [
        {
          "name": "stdout",
          "output_type": "stream",
          "text": [
            "Epoch: 10, Loss: 0.3274020815054513, Accuracy: 0.09951666666666667\n",
            "Epoch: 20, Loss: 0.3266673325849233, Accuracy: 0.09851666666666667\n",
            "Epoch: 30, Loss: 0.32590233875021596, Accuracy: 0.09978333333333333\n",
            "Epoch: 40, Loss: 0.3189476549465496, Accuracy: 0.14266666666666666\n",
            "Epoch: 50, Loss: 0.30567601869215444, Accuracy: 0.17306666666666667\n",
            "Epoch: 60, Loss: 0.300518077317953, Accuracy: 0.1832\n",
            "Epoch: 70, Loss: 0.29888021280768406, Accuracy: 0.19086666666666666\n",
            "Epoch: 80, Loss: 0.2984130758040285, Accuracy: 0.19498333333333334\n",
            "Epoch: 90, Loss: 0.29830009007644864, Accuracy: 0.19576666666666667\n",
            "Epoch: 100, Loss: 0.29827202597736713, Accuracy: 0.19458333333333333\n"
          ]
        },
        {
          "name": "stderr",
          "output_type": "stream",
          "text": [
            "<ipython-input-1-d010462e545c>:146: UserWarning: FixedFormatter should only be used together with FixedLocator\n",
            "  plt.gca().set_yticklabels(['{:.0f}%'.format(x * 100) for x in plt.gca().get_yticks()])  # Format y-axis tick labels as percentages\n"
          ]
        },
        {
          "data": {
            "image/png": "[encoded data removed]",
            "text/plain": [
              "<Figure size 1000x400 with 2 Axes>"
            ]
          },
          "metadata": {},
          "output_type": "display_data"
        }
      ],
      "source": [
        "import numpy as np\n",
        "import urllib.request\n",
        "import tarfile\n",
        "import pickle\n",
        "import matplotlib.pyplot as plt\n",
        "\n",
        "# Download and extract CIFAR-10 dataset\n",
        "url = \"https://www.cs.toronto.edu/~kriz/cifar-10-python.tar.gz\"\n",
        "filename = \"cifar-10-python.tar.gz\"\n",
        "urllib.request.urlretrieve(url, filename)\n",
        "tar = tarfile.open(filename, \"r:gz\")\n",
        "tar.extractall()\n",
        "tar.close()\n",
        "\n",
        "# Load CIFAR-10 dataset\n",
        "def load_data():\n",
        "    def unpickle(file):\n",
        "        with open(file, 'rb') as fo:\n",
        "            dict = pickle.load(fo, encoding='bytes')\n",
        "        return dict\n",
        "\n",
        "    data = []\n",
        "    labels = []\n",
        "    for i in range(1, 6):\n",
        "        batch = unpickle(f'cifar-10-batches-py/data_batch_{i}')\n",
        "        data.append(batch[b'data'])\n",
        "        labels.extend(batch[b'labels'])\n",
        "    test_batch = unpickle('cifar-10-batches-py/test_batch')\n",
        "    data.append(test_batch[b'data'])\n",
        "    labels.extend(test_batch[b'labels'])\n",
        "    data = np.concatenate(data, axis=0).reshape(-1, 3, 32, 32).transpose(0, 2, 3, 1)\n",
        "    labels = np.array(labels)\n",
        "    return data, labels\n",
        "\n",
        "# Preprocess CIFAR-10 dataset\n",
        "def preprocess_data(data, labels):\n",
        "    data = data.astype(np.float32) / 255.0\n",
        "    num_classes = np.max(labels) + 1\n",
        "    labels = np.eye(num_classes)[labels]\n",
        "    return data, labels\n",
        "\n",
        "# ReLU activation function\n",
        "def relu(x):\n",
        "    return np.maximum(0, x)\n",
        "\n",
        "# Sigmoid activation function\n",
        "def sigmoid(x):\n",
        "    return 1.0 / (1.0 + np.exp(-x))\n",
        "\n",
        "# Forward propagation\n",
        "def forward_propagation(X, W1, b1, W2, b2):\n",
        "    z2 = np.dot(W1, X) + b1\n",
        "    a2 = relu(z2)\n",
        "    z3 = np.dot(W2, a2) + b2\n",
        "    output = sigmoid(z3)\n",
        "    return a2, output\n",
        "\n",
        "# Loss function\n",
        "def compute_loss(output, y):\n",
        "    epsilon = 1e-8\n",
        "    loss = -np.mean(y * np.log(output + epsilon) + (1 - y) * np.log(1 - output + epsilon))\n",
        "    return loss\n",
        "\n",
        "# Backpropagation\n",
        "def backward_propagation(X, y, output, a2, W2):\n",
        "    epsilon = 1e-8\n",
        "    delta3 = output - y\n",
        "    delta2 = np.dot(W2.T, delta3) * (a2 > 0)\n",
        "    dW2 = np.dot(delta3, a2.T)\n",
        "    db2 = np.sum(delta3, axis=1, keepdims=True)\n",
        "    dW1 = np.dot(delta2, X.T)\n",
        "    db1 = np.sum(delta2, axis=1, keepdims=True)\n",
        "    return dW1, db1, dW2, db2\n",
        "\n",
        "\n",
        "# Stochastic Gradient Descent (SGD) with learning rate decay\n",
        "def train_model(X, y, num_epochs, learning_rate, step_size, decay_rate):\n",
        "    np.random.seed(0)\n",
        "    num_samples = X.shape[0]\n",
        "    num_features = X.shape[1]\n",
        "    num_hidden = 10\n",
        "    num_classes = y.shape[1]\n",
        "\n",
        "    # Initialize weights and biases\n",
        "    W1 = np.random.randn(num_hidden, num_features) * 0.01\n",
        "    b1 = np.zeros((num_hidden, 1))\n",
        "    W2 = np.random.randn(num_classes, num_hidden) * 0.01\n",
        "    b2 = np.zeros((num_classes, 1))\n",
        "\n",
        "    losses = []\n",
        "    accuracies = []\n",
        "\n",
        "    for epoch in range(num_epochs):\n",
        "        epoch_loss = 0\n",
        "        correct_predictions = 0\n",
        "\n",
        "        for i in range(num_samples):\n",
        "            # Forward propagation\n",
        "            a2, output = forward_propagation(X[i].reshape(num_features, 1), W1, b1, W2, b2)\n",
        "\n",
        "            # Compute loss\n",
        "            loss = compute_loss(output, y[i].reshape(num_classes, 1))\n",
        "            epoch_loss += loss\n",
        "\n",
        "            # Backpropagation\n",
        "            dW1, db1, dW2, db2 = backward_propagation(X[i].reshape(num_features, 1), y[i].reshape(num_classes, 1), output, a2, W2)\n",
        "\n",
        "            # Update weights and biases\n",
        "            W1 = W1 - learning_rate * dW1\n",
        "            b1 = b1 - learning_rate * db1\n",
        "            W2 = W2 - learning_rate * dW2\n",
        "            b2 = b2 - learning_rate * db2\n",
        "\n",
        "            # Count correct predictions\n",
        "            if np.argmax(output) == np.argmax(y[i]):\n",
        "                correct_predictions += 1\n",
        "\n",
        "        # Decay learning rate\n",
        "        if (epoch + 1) % step_size == 0:\n",
        "            learning_rate *= 1.0 / (1.0 + decay_rate * epoch)\n",
        "\n",
        "        # Compute accuracy\n",
        "        accuracy = correct_predictions / num_samples\n",
        "\n",
        "        # Save loss and accuracy for plotting\n",
        "        losses.append(epoch_loss / num_samples)\n",
        "        accuracies.append(accuracy)\n",
        "\n",
        "        # Print loss and accuracy every 10 epochs\n",
        "        if (epoch + 1) % 10 == 0:\n",
        "            print(f\"Epoch: {epoch + 1}, Loss: {losses[-1]}, Accuracy: {accuracies[-1]}\")\n",
        "\n",
        "    # Plot loss and accuracy\n",
        "    plt.figure(figsize=(10, 4))\n",
        "    plt.subplot(1, 2, 1)\n",
        "    plt.plot(losses)\n",
        "    plt.xlabel('Epochs')\n",
        "    plt.ylabel('Loss')\n",
        "    plt.title('Loss vs Epochs')\n",
        "    plt.subplot(1, 2, 2)\n",
        "    plt.plot(accuracies)\n",
        "    plt.xlabel('Epochs')\n",
        "    plt.ylabel('Accuracy (%)')  # Update ylabel to indicate percentage\n",
        "    plt.title('Accuracy vs Epochs')\n",
        "    plt.ylim([0, 1])  # Set y-axis limits to show percentages (0% to 100%)\n",
        "    plt.gca().set_yticklabels(['{:.0f}%'.format(x * 100) for x in plt.gca().get_yticks()])  # Format y-axis tick labels as percentages\n",
        "    plt.tight_layout()\n",
        "    plt.show()\n",
        "\n",
        "# Load CIFAR-10 dataset\n",
        "data, labels = load_data()\n",
        "\n",
        "# Preprocess CIFAR-10 dataset\n",
        "data, labels = preprocess_data(data, labels)\n",
        "\n",
        "# Flatten image data\n",
        "data = data.reshape(data.shape[0], -1)\n",
        "\n",
        "# Train the model\n",
        "num_epochs = 100\n",
        "learning_rate = 0.1\n",
        "step_size = 10  # Specify the step size here\n",
        "decay_rate = 0.05  # Specify the decay rate here\n",
        "train_model(data, labels, num_epochs, learning_rate, step_size, decay_rate)\n"
      ]
    },
    {
      "cell_type": "markdown",
      "source": [
        "### **After hyperparameter tuning**"
      ],
      "metadata": {
        "id": "4Hy6LAC6Cz_Y"
      }
    },
    {
      "cell_type": "markdown",
      "source": [
        "I experimented with the hyperparameters (step size, gamma, and learning rate), and after around 15 training attempts with different hyperparameters I managed to more than double the accuracy from 20% to 44%:"
      ],
      "metadata": {
        "id": "o5Asa1OTMasF"
      }
    },
    {
      "cell_type": "code",
      "execution_count": null,
      "metadata": {
        "colab": {
          "background_save": true
        },
        "id": "oRN8JY6sZpUv",
        "outputId": "4baa035b-9862-4047-d80e-2a99dae711ba"
      },
      "outputs": [
        {
          "name": "stdout",
          "output_type": "stream",
          "text": [
            "Epoch: 5, Loss: 0.2905088315503516, Accuracy: 0.27935\n",
            "Epoch: 10, Loss: 0.27677132959066236, Accuracy: 0.3293\n",
            "Epoch: 15, Loss: 0.260223199891374, Accuracy: 0.38563333333333333\n",
            "Epoch: 20, Loss: 0.2504696788467608, Accuracy: 0.41828333333333334\n",
            "Epoch: 25, Loss: 0.2455960739251015, Accuracy: 0.4353666666666667\n",
            "Epoch: 30, Loss: 0.24362293661906598, Accuracy: 0.4422833333333333\n"
          ]
        },
        {
          "name": "stderr",
          "output_type": "stream",
          "text": [
            "<ipython-input-2-58360238b9e0>:146: UserWarning: FixedFormatter should only be used together with FixedLocator\n",
            "  plt.gca().set_yticklabels(['{:.0f}%'.format(x * 100) for x in plt.gca().get_yticks()])  # Format y-axis tick labels as percentages\n"
          ]
        },
        {
          "data": {
            "image/png": "[encoded data removed]",
            "text/plain": [
              "<Figure size 1000x400 with 2 Axes>"
            ]
          },
          "metadata": {},
          "output_type": "display_data"
        }
      ],
      "source": [
        "import numpy as np\n",
        "import urllib.request\n",
        "import tarfile\n",
        "import pickle\n",
        "import matplotlib.pyplot as plt\n",
        "\n",
        "# Download and extract CIFAR-10 dataset\n",
        "url = \"https://www.cs.toronto.edu/~kriz/cifar-10-python.tar.gz\"\n",
        "filename = \"cifar-10-python.tar.gz\"\n",
        "urllib.request.urlretrieve(url, filename)\n",
        "tar = tarfile.open(filename, \"r:gz\")\n",
        "tar.extractall()\n",
        "tar.close()\n",
        "\n",
        "# Load CIFAR-10 dataset\n",
        "def load_data():\n",
        "    def unpickle(file):\n",
        "        with open(file, 'rb') as fo:\n",
        "            dict = pickle.load(fo, encoding='bytes')\n",
        "        return dict\n",
        "\n",
        "    data = []\n",
        "    labels = []\n",
        "    for i in range(1, 6):\n",
        "        batch = unpickle(f'cifar-10-batches-py/data_batch_{i}')\n",
        "        data.append(batch[b'data'])\n",
        "        labels.extend(batch[b'labels'])\n",
        "    test_batch = unpickle('cifar-10-batches-py/test_batch')\n",
        "    data.append(test_batch[b'data'])\n",
        "    labels.extend(test_batch[b'labels'])\n",
        "    data = np.concatenate(data, axis=0).reshape(-1, 3, 32, 32).transpose(0, 2, 3, 1)\n",
        "    labels = np.array(labels)\n",
        "    return data, labels\n",
        "\n",
        "# Preprocess CIFAR-10 dataset\n",
        "def preprocess_data(data, labels):\n",
        "    data = data.astype(np.float32) / 255.0\n",
        "    num_classes = np.max(labels) + 1\n",
        "    labels = np.eye(num_classes)[labels]\n",
        "    return data, labels\n",
        "\n",
        "# ReLU activation function\n",
        "def relu(x):\n",
        "    return np.maximum(0, x)\n",
        "\n",
        "# Sigmoid activation function\n",
        "def sigmoid(x):\n",
        "    return 1.0 / (1.0 + np.exp(-x))\n",
        "\n",
        "# Forward propagation\n",
        "def forward_propagation(X, W1, b1, W2, b2):\n",
        "    z2 = np.dot(W1, X) + b1\n",
        "    a2 = relu(z2)\n",
        "    z3 = np.dot(W2, a2) + b2\n",
        "    output = sigmoid(z3)\n",
        "    return a2, output\n",
        "\n",
        "# Loss function\n",
        "def compute_loss(output, y):\n",
        "    epsilon = 1e-8\n",
        "    loss = -np.mean(y * np.log(output + epsilon) + (1 - y) * np.log(1 - output + epsilon))\n",
        "    return loss\n",
        "\n",
        "# Backpropagation\n",
        "def backward_propagation(X, y, output, a2, W2):\n",
        "    epsilon = 1e-8\n",
        "    delta3 = output - y\n",
        "    delta2 = np.dot(W2.T, delta3) * (a2 > 0)\n",
        "    dW2 = np.dot(delta3, a2.T)\n",
        "    db2 = np.sum(delta3, axis=1, keepdims=True)\n",
        "    dW1 = np.dot(delta2, X.T)\n",
        "    db1 = np.sum(delta2, axis=1, keepdims=True)\n",
        "    return dW1, db1, dW2, db2\n",
        "\n",
        "\n",
        "# Stochastic Gradient Descent (SGD) with learning rate decay\n",
        "def train_model(X, y, num_epochs, learning_rate, step_size, decay_rate):\n",
        "    np.random.seed(0)\n",
        "    num_samples = X.shape[0]\n",
        "    num_features = X.shape[1]\n",
        "    num_hidden = 10\n",
        "    num_classes = y.shape[1]\n",
        "\n",
        "    # Initialize weights and biases\n",
        "    W1 = np.random.randn(num_hidden, num_features) * 0.01\n",
        "    b1 = np.zeros((num_hidden, 1))\n",
        "    W2 = np.random.randn(num_classes, num_hidden) * 0.01\n",
        "    b2 = np.zeros((num_classes, 1))\n",
        "\n",
        "    losses = []\n",
        "    accuracies = []\n",
        "\n",
        "    for epoch in range(num_epochs):\n",
        "        epoch_loss = 0\n",
        "        correct_predictions = 0\n",
        "\n",
        "        for i in range(num_samples):\n",
        "            # Forward propagation\n",
        "            a2, output = forward_propagation(X[i].reshape(num_features, 1), W1, b1, W2, b2)\n",
        "\n",
        "            # Compute loss\n",
        "            loss = compute_loss(output, y[i].reshape(num_classes, 1))\n",
        "            epoch_loss += loss\n",
        "\n",
        "            # Backpropagation\n",
        "            dW1, db1, dW2, db2 = backward_propagation(X[i].reshape(num_features, 1), y[i].reshape(num_classes, 1), output, a2, W2)\n",
        "\n",
        "            # Update weights and biases\n",
        "            W1 = W1 - learning_rate * dW1\n",
        "            b1 = b1 - learning_rate * db1\n",
        "            W2 = W2 - learning_rate * dW2\n",
        "            b2 = b2 - learning_rate * db2\n",
        "\n",
        "            # Count correct predictions\n",
        "            if np.argmax(output) == np.argmax(y[i]):\n",
        "                correct_predictions += 1\n",
        "\n",
        "        # Decay learning rate\n",
        "        if (epoch + 1) % step_size == 0:\n",
        "            learning_rate *= 1.0 / (1.0 + decay_rate * epoch)\n",
        "\n",
        "        # Compute accuracy\n",
        "        accuracy = correct_predictions / num_samples\n",
        "\n",
        "        # Save loss and accuracy for plotting\n",
        "        losses.append(epoch_loss / num_samples)\n",
        "        accuracies.append(accuracy)\n",
        "\n",
        "        # Print loss and accuracy every 10 epochs\n",
        "        if (epoch + 1) % 5 == 0:\n",
        "            print(f\"Epoch: {epoch + 1}, Loss: {losses[-1]}, Accuracy: {accuracies[-1]}\")\n",
        "\n",
        "    # Plot loss and accuracy\n",
        "    plt.figure(figsize=(10, 4))\n",
        "    plt.subplot(1, 2, 1)\n",
        "    plt.plot(losses)\n",
        "    plt.xlabel('Epochs')\n",
        "    plt.ylabel('Loss')\n",
        "    plt.title('Loss vs Epochs')\n",
        "    plt.subplot(1, 2, 2)\n",
        "    plt.plot(accuracies)\n",
        "    plt.xlabel('Epochs')\n",
        "    plt.ylabel('Accuracy (%)')\n",
        "    plt.title('Accuracy vs Epochs')\n",
        "    plt.ylim([0, 1])  # Set y-axis limits to show percentages 0% to 100%\n",
        "    plt.gca().set_yticklabels(['{:.0f}%'.format(x * 100) for x in plt.gca().get_yticks()])  # Format y-axis tick labels as percentages\n",
        "    plt.tight_layout()\n",
        "    plt.show()\n",
        "\n",
        "# Load CIFAR-10 dataset\n",
        "data, labels = load_data()\n",
        "\n",
        "# Preprocess CIFAR-10 dataset\n",
        "data, labels = preprocess_data(data, labels)\n",
        "\n",
        "# Flatten image data\n",
        "data = data.reshape(data.shape[0], -1)\n",
        "\n",
        "# Train the model\n",
        "num_epochs = 30\n",
        "learning_rate = 0.01\n",
        "step_size = 5  # Specify the step size here\n",
        "decay_rate = 0.1  # Specify the decay rate here\n",
        "train_model(data, labels, num_epochs, learning_rate, step_size, decay_rate)\n"
      ]
    },
    {
      "cell_type": "markdown",
      "source": [
        "## **Question 2**"
      ],
      "metadata": {
        "id": "o1cmrfS9C7cK"
      }
    },
    {
      "cell_type": "code",
      "execution_count": null,
      "metadata": {
        "colab": {
          "base_uri": "https://localhost:8080/"
        },
        "id": "jEncLMUqY2r_",
        "outputId": "261a2a16-22e8-4176-d576-8143d549a6ea"
      },
      "outputs": [
        {
          "name": "stdout",
          "output_type": "stream",
          "text": [
            "Looking in indexes: https://pypi.org/simple, https://us-python.pkg.dev/colab-wheels/public/simple/\n",
            "Collecting optuna\n",
            "  Downloading optuna-3.1.1-py3-none-any.whl (365 kB)\n",
            "\u001b[2K     \u001b[90m━━━━━━━━━━━━━━━━━━━━━━━━━━━━━━━━━━━━━━━\u001b[0m \u001b[32m365.7/365.7 kB\u001b[0m \u001b[31m8.4 MB/s\u001b[0m eta \u001b[36m0:00:00\u001b[0m\n",
            "\u001b[?25hCollecting alembic>=1.5.0 (from optuna)\n",
            "  Downloading alembic-1.11.1-py3-none-any.whl (224 kB)\n",
            "\u001b[2K     \u001b[90m━━━━━━━━━━━━━━━━━━━━━━━━━━━━━━━━━━━━━━\u001b[0m \u001b[32m224.5/224.5 kB\u001b[0m \u001b[31m25.8 MB/s\u001b[0m eta \u001b[36m0:00:00\u001b[0m\n",
            "\u001b[?25hCollecting cmaes>=0.9.1 (from optuna)\n",
            "  Downloading cmaes-0.9.1-py3-none-any.whl (21 kB)\n",
            "Collecting colorlog (from optuna)\n",
            "  Downloading colorlog-6.7.0-py2.py3-none-any.whl (11 kB)\n",
            "Requirement already satisfied: numpy in /usr/local/lib/python3.10/dist-packages (from optuna) (1.22.4)\n",
            "Requirement already satisfied: packaging>=20.0 in /usr/local/lib/python3.10/dist-packages (from optuna) (23.1)\n",
            "Requirement already satisfied: sqlalchemy>=1.3.0 in /usr/local/lib/python3.10/dist-packages (from optuna) (2.0.10)\n",
            "Requirement already satisfied: tqdm in /usr/local/lib/python3.10/dist-packages (from optuna) (4.65.0)\n",
            "Requirement already satisfied: PyYAML in /usr/local/lib/python3.10/dist-packages (from optuna) (6.0)\n",
            "Collecting Mako (from alembic>=1.5.0->optuna)\n",
            "  Downloading Mako-1.2.4-py3-none-any.whl (78 kB)\n",
            "\u001b[2K     \u001b[90m━━━━━━━━━━━━━━━━━━━━━━━━━━━━━━━━━━━━━━━━\u001b[0m \u001b[32m78.7/78.7 kB\u001b[0m \u001b[31m9.3 MB/s\u001b[0m eta \u001b[36m0:00:00\u001b[0m\n",
            "\u001b[?25hRequirement already satisfied: typing-extensions>=4 in /usr/local/lib/python3.10/dist-packages (from alembic>=1.5.0->optuna) (4.5.0)\n",
            "Requirement already satisfied: greenlet!=0.4.17 in /usr/local/lib/python3.10/dist-packages (from sqlalchemy>=1.3.0->optuna) (2.0.2)\n",
            "Requirement already satisfied: MarkupSafe>=0.9.2 in /usr/local/lib/python3.10/dist-packages (from Mako->alembic>=1.5.0->optuna) (2.1.2)\n",
            "Installing collected packages: Mako, colorlog, cmaes, alembic, optuna\n",
            "Successfully installed Mako-1.2.4 alembic-1.11.1 cmaes-0.9.1 colorlog-6.7.0 optuna-3.1.1\n"
          ]
        }
      ],
      "source": [
        "import torch\n",
        "import torch.nn as nn\n",
        "import torch.optim as optim\n",
        "import numpy as np\n",
        "import matplotlib.pyplot as plt\n",
        "import torchvision\n",
        "from torchvision import datasets\n",
        "from torchvision import transforms\n",
        "from sklearn.model_selection import train_test_split\n",
        "from torch.optim import lr_scheduler\n",
        "from torch.optim.lr_scheduler import StepLR\n",
        "!pip install optuna\n",
        "import optuna"
      ]
    },
    {
      "cell_type": "markdown",
      "source": [
        "Vectorisation using the transforms library from torchvision, can also add other transformations like flipping the image and rotating it to improve robustness and generalisation abilities of the model."
      ],
      "metadata": {
        "id": "pFE-ZyB2DEoo"
      }
    },
    {
      "cell_type": "code",
      "execution_count": null,
      "metadata": {
        "id": "0OBWitnbqIfU"
      },
      "outputs": [],
      "source": [
        "transforms = transforms.Compose([\n",
        "    transforms.ToTensor(),\n",
        "])"
      ]
    },
    {
      "cell_type": "markdown",
      "source": [
        "Download CIFAR10 from torchvision, first by downloading the training dataset by applying train=True to a variable called dataset and then apply the transforms from before, finally storing it into the dataset variable.\n",
        "\n",
        "Then using train_test_split from sklearn we can split the training data into a train (80%) and validation dataset (20%).\n",
        "\n",
        "Finally we download the test dataset by assinging train as false."
      ],
      "metadata": {
        "id": "Myky0wNlDQVL"
      }
    },
    {
      "cell_type": "code",
      "execution_count": null,
      "metadata": {
        "colab": {
          "base_uri": "https://localhost:8080/"
        },
        "id": "HN-m8lbvf3yp",
        "outputId": "7f948877-ddc4-4d46-bf2a-5e0c28702865"
      },
      "outputs": [
        {
          "name": "stdout",
          "output_type": "stream",
          "text": [
            "Downloading https://www.cs.toronto.edu/~kriz/cifar-10-python.tar.gz to ./data/cifar-10-python.tar.gz\n"
          ]
        },
        {
          "name": "stderr",
          "output_type": "stream",
          "text": [
            "100%|██████████| 170498071/170498071 [00:01<00:00, 85752267.10it/s]\n"
          ]
        },
        {
          "name": "stdout",
          "output_type": "stream",
          "text": [
            "Extracting ./data/cifar-10-python.tar.gz to ./data\n",
            "Files already downloaded and verified\n"
          ]
        }
      ],
      "source": [
        "dataset = torchvision.datasets.CIFAR10(root=\"./data\", train=True, transform=transforms, download=True)\n",
        "train_dataset, val_dataset = train_test_split(dataset, test_size=0.2, random_state=42)\n",
        "test_dataset = torchvision.datasets.CIFAR10(root=\"./data\", train=False, transform=transforms, download=True) "
      ]
    },
    {
      "cell_type": "markdown",
      "source": [
        "create dataloaders to load data into the neural network, set batch_size to 32 and the data gets shuffled."
      ],
      "metadata": {
        "id": "Z1KVrmYkE6Mr"
      }
    },
    {
      "cell_type": "code",
      "execution_count": null,
      "metadata": {
        "id": "_NuFra_Mll4n"
      },
      "outputs": [],
      "source": [
        "train_loader = torch.utils.data.DataLoader(train_dataset,\n",
        "                                           batch_size=32,\n",
        "                                           shuffle=True)\n",
        "\n",
        "val_loader = torch.utils.data.DataLoader(val_dataset,\n",
        "                                          batch_size=32,\n",
        "                                          shuffle=True)\n",
        "\n",
        "test_loader = torch.utils.data.DataLoader(test_dataset,\n",
        "                                          batch_size=32,\n",
        "                                          shuffle=True)"
      ]
    },
    {
      "cell_type": "markdown",
      "source": [
        "Within the CNN class there are two function the __init__ or initialisation function that initialises the layesr of the neural network: 2 convolutional layers, one pooling layer, and two fully connected linear layers.\n",
        "\n",
        "Then there is the forward function that defines the computation graph or the sequence of the forward propogation."
      ],
      "metadata": {
        "id": "1eXF3OCjFGRM"
      }
    },
    {
      "cell_type": "code",
      "execution_count": null,
      "metadata": {
        "id": "hao48lX2mlll"
      },
      "outputs": [],
      "source": [
        "class CNN(nn.Module):\n",
        "    def __init__(self):\n",
        "        super(CNN, self).__init__()\n",
        "        self.conv1 = nn.Conv2d(3, 16, kernel_size=3, stride=1, padding=1)\n",
        "        self.conv2 = nn.Conv2d(16, 32, kernel_size=3, stride=1, padding=1)\n",
        "        self.pool = nn.MaxPool2d(kernel_size=2, stride=2)\n",
        "        self.fc1 = nn.Linear(32 * 8 * 8, 128)\n",
        "        self.fc2 = nn.Linear(128, 10)\n",
        "\n",
        "    def forward(self, x):\n",
        "        x = self.conv1(x)\n",
        "        x = nn.functional.relu(x)\n",
        "        x = self.pool(x)\n",
        "        x = self.conv2(x)\n",
        "        x = nn.functional.relu(x)\n",
        "        x = self.pool(x)\n",
        "        x = x.view(-1, 32 * 8 * 8)\n",
        "        x = self.fc1(x)\n",
        "        x = nn.functional.relu(x)\n",
        "        x = self.fc2(x)\n",
        "        return x"
      ]
    },
    {
      "cell_type": "markdown",
      "source": [
        "This code allows the model to train on NVIDIA GPU using CUDA if it available or a cpu if it is not.\n",
        "\n",
        "The CNN class is then moved to the device (either gpu or cpu)"
      ],
      "metadata": {
        "id": "xtspxhy7FkUf"
      }
    },
    {
      "cell_type": "code",
      "execution_count": null,
      "metadata": {
        "id": "v8NAZWtCnENq"
      },
      "outputs": [],
      "source": [
        "device = torch.device(\"cuda:0\" if torch.cuda.is_available() else (\"cpu\"))\n",
        "\n",
        "model = CNN().to(device=device)"
      ]
    },
    {
      "cell_type": "markdown",
      "source": [
        "The criterion is the type of loss used in the neural network, since it is a multiclass classification problem we use cross entropy loss. Then we set the otpimizer as stochastic gradient descent with a learning rate of 0.01. Then we define a scheduler that provides a step_size which sets how often (after how many epochs) the learning rate decay is applied. The gamma represents the decrease in learning rate the learning rate decay applies in this case it is 0.1 so it will decrease by 10%."
      ],
      "metadata": {
        "id": "T-EoE9MFGJOg"
      }
    },
    {
      "cell_type": "code",
      "execution_count": null,
      "metadata": {
        "id": "mj50TxzLnHP1"
      },
      "outputs": [],
      "source": [
        "criterion = nn.CrossEntropyLoss()\n",
        "optimizer = optim.SGD(model.parameters(), lr=0.01)\n",
        "scheduler = StepLR(optimizer, step_size=5, gamma=0.1)"
      ]
    },
    {
      "cell_type": "markdown",
      "source": [
        "The training process that also  prints the training and validation loss alongside the graph that plots the accuracy."
      ],
      "metadata": {
        "id": "YdAUC2vxIj7j"
      }
    },
    {
      "cell_type": "code",
      "execution_count": null,
      "metadata": {
        "colab": {
          "base_uri": "https://localhost:8080/",
          "height": 623
        },
        "id": "mftyu5LcoPlW",
        "outputId": "c3ca899b-f627-48e6-916b-61ac1ae13f08"
      },
      "outputs": [
        {
          "name": "stdout",
          "output_type": "stream",
          "text": [
            "Epoch [1/10], Training Loss: 1.9784, Training Acc: 18.5225        Val Loss: 2.0325, Validation Acc: 27.9400\n",
            "Epoch [2/10], Training Loss: 1.7184, Training Acc: 32.9200        Val Loss: 1.6965, Validation Acc: 37.2200\n",
            "Epoch [3/10], Training Loss: 1.6318, Training Acc: 40.7025        Val Loss: 1.4596, Validation Acc: 43.5600\n",
            "Epoch [4/10], Training Loss: 1.5069, Training Acc: 46.3025        Val Loss: 1.4865, Validation Acc: 45.6800\n",
            "Epoch [5/10], Training Loss: 1.1219, Training Acc: 49.9800        Val Loss: 1.3502, Validation Acc: 51.1800\n",
            "Epoch [6/10], Training Loss: 1.3370, Training Acc: 53.8450        Val Loss: 1.1676, Validation Acc: 53.3200\n",
            "Epoch [7/10], Training Loss: 1.4543, Training Acc: 54.5500        Val Loss: 1.6389, Validation Acc: 53.6800\n",
            "Epoch [8/10], Training Loss: 0.9964, Training Acc: 54.8775        Val Loss: 1.6324, Validation Acc: 54.1500\n",
            "Epoch [9/10], Training Loss: 1.4287, Training Acc: 55.4175        Val Loss: 1.4687, Validation Acc: 54.5000\n",
            "Epoch [10/10], Training Loss: 1.3425, Training Acc: 55.5750        Val Loss: 1.4639, Validation Acc: 54.4000\n"
          ]
        },
        {
          "data": {
            "image/png": "[encoded data removed]",
            "text/plain": [
              "<Figure size 640x480 with 1 Axes>"
            ]
          },
          "metadata": {},
          "output_type": "display_data"
        }
      ],
      "source": [
        "\n",
        "# Train the model and track loss and accuracy\n",
        "train_loss = []\n",
        "train_acc = []\n",
        "valid_loss = []\n",
        "valid_acc = []\n",
        "num_epochs = 10\n",
        "\n",
        "for epoch in range(num_epochs):\n",
        "    # Train the model\n",
        "    model.train()\n",
        "    correct = 0\n",
        "    total = 0\n",
        "    for i, (inputs, labels) in enumerate(train_loader):\n",
        "        inputs = inputs.to(device)\n",
        "        labels = labels.to(device)\n",
        "\n",
        "        # Forward pass\n",
        "        outputs = model(inputs)\n",
        "\n",
        "        # Compute loss\n",
        "        loss = criterion(outputs, labels)\n",
        "\n",
        "        # Backward pass and optimization\n",
        "        optimizer.zero_grad()\n",
        "        loss.backward()\n",
        "        optimizer.step()\n",
        "\n",
        "        # Save training loss\n",
        "        train_loss.append(loss.item())\n",
        "\n",
        "        # Calculate training accuracy\n",
        "        _, predicted = torch.max(outputs.data, 1)\n",
        "        total += labels.size(0)\n",
        "        correct += (predicted == labels).sum().item()\n",
        "    train_acc.append(100 * correct / total)\n",
        "\n",
        "    # Update the learning rate\n",
        "    scheduler.step()\n",
        "\n",
        "    # Evaluate the model on the validation set\n",
        "    model.eval()\n",
        "    correct = 0\n",
        "    total = 0\n",
        "    with torch.no_grad():\n",
        "        for inputs, labels in val_loader:\n",
        "            inputs = inputs.to(device)\n",
        "            labels = labels.to(device)\n",
        "\n",
        "            # Forward pass\n",
        "            outputs = model(inputs)\n",
        "\n",
        "            # Compute loss\n",
        "            loss = criterion(outputs, labels)\n",
        "\n",
        "            # Save validation loss\n",
        "            valid_loss.append(loss.item())\n",
        "\n",
        "            # Calculate validation accuracy\n",
        "            _, predicted = torch.max(outputs.data, 1)\n",
        "            total += labels.size(0)\n",
        "            correct += (predicted == labels).sum().item()\n",
        "    valid_acc.append(100 * correct / total)\n",
        "\n",
        "    # Print epoch and losses\n",
        "    print('Epoch [{}/{}], Training Loss: {:.4f}, Training Acc: {:.4f}        Val Loss: {:.4f}, Validation Acc: {:.4f}'\n",
        "          .format(epoch+1, num_epochs, train_loss[-1], train_acc[-1], valid_loss[-1], valid_acc[-1]))\n",
        "\n",
        "# Plot the loss and accuracy over epochs\n",
        "plt.plot(train_acc, label='Training Accuracy')\n",
        "plt.plot(valid_acc, label='Validation Accuracy')\n",
        "plt.xlabel('Epoch')\n",
        "plt.ylabel('Accuracy')\n",
        "plt.legend()\n",
        "plt.show()\n"
      ]
    },
    {
      "cell_type": "markdown",
      "source": [
        "###**Hyperparameter tuning**"
      ],
      "metadata": {
        "id": "uY7wHo1kItCE"
      }
    },
    {
      "cell_type": "markdown",
      "source": [
        "Using an open source hyperparameter tuning library called optuna we can provide a search space for the hyperparameters, in this case the learning rate, step size, and gamma, and then it will find the optimal hyperprameters by running a set amount of trials with at first random combinations of hyperparameter values inbetween the values provided in .suggest and then slowly homing in on the hyperparameters that provide the highest accuracy."
      ],
      "metadata": {
        "id": "eDdY_AIAJLKT"
      }
    },
    {
      "cell_type": "code",
      "execution_count": null,
      "metadata": {
        "id": "LObiSTM0oii3"
      },
      "outputs": [],
      "source": [
        "def objective(trial):\n",
        "    model = CNN().to(device=device)\n",
        "\n",
        "    criterion = nn.CrossEntropyLoss()\n",
        "\n",
        "    # Define the hyperparameters to tune\n",
        "    learning_rate = trial.suggest_loguniform('learning_rate', 0.01, 0.1)\n",
        "    optimizer = optim.SGD(model.parameters(), lr=learning_rate)\n",
        "\n",
        "    step_size = trial.suggest_int('step_size', 1, 9)\n",
        "    gamma = trial.suggest_uniform('gamma', 0.01, 0.99)\n",
        "    scheduler = StepLR(optimizer, step_size=step_size, gamma=gamma)\n",
        "\n",
        "    for epoch in range(num_epochs):\n",
        "        model.train()\n",
        "        correct = 0\n",
        "        total = 0\n",
        "        for i, (inputs, labels) in enumerate(train_loader):\n",
        "            inputs = inputs.to(device)\n",
        "            labels = labels.to(device)\n",
        "\n",
        "            optimizer.zero_grad()\n",
        "\n",
        "            outputs = model(inputs)\n",
        "            loss = criterion(outputs, labels)\n",
        "            loss.backward()\n",
        "            optimizer.step()\n",
        "\n",
        "            train_loss.append(loss.item())\n",
        "\n",
        "            _, predicted = torch.max(outputs.data, 1)\n",
        "            total += labels.size(0)\n",
        "            correct += (predicted == labels).sum().item()\n",
        "\n",
        "        train_acc.append(100 * correct / total)\n",
        "\n",
        "        scheduler.step()\n",
        "\n",
        "        model.eval()\n",
        "        correct = 0\n",
        "        total = 0\n",
        "        with torch.no_grad():\n",
        "            for inputs, labels in val_loader:\n",
        "                inputs = inputs.to(device)\n",
        "                labels = labels.to(device)\n",
        "\n",
        "                outputs = model(inputs)\n",
        "                loss = criterion(outputs, labels)\n",
        "\n",
        "                valid_loss.append(loss.item())\n",
        "\n",
        "                _, predicted = torch.max(outputs.data, 1)\n",
        "                total += labels.size(0)\n",
        "                correct += (predicted == labels).sum().item()\n",
        "\n",
        "        valid_acc.append(100 * correct / total)\n",
        "\n",
        "    return valid_acc[-1]  # Return the last validation accuracy\n"
      ]
    },
    {
      "cell_type": "markdown",
      "source": [
        "We set n_trials in study.optimize to 50 meaning it will run 50 experiments with different hyperparameters to find the ideal ones which will then be stored in the optuna study."
      ],
      "metadata": {
        "id": "uXpIg6WkKYny"
      }
    },
    {
      "cell_type": "code",
      "execution_count": null,
      "metadata": {
        "colab": {
          "base_uri": "https://localhost:8080/"
        },
        "id": "sEjDVEccN6qU",
        "outputId": "d0022043-b95a-48e0-84c1-38ad1ada0c2e"
      },
      "outputs": [
        {
          "name": "stderr",
          "output_type": "stream",
          "text": [
            "\u001b[32m[I 2023-05-22 18:02:30,857]\u001b[0m A new study created in memory with name: no-name-b4811f8d-2374-4de9-b980-ad4eecf16037\u001b[0m\n",
            "<ipython-input-9-86e96d8da5df>:7: FutureWarning: suggest_loguniform has been deprecated in v3.0.0. This feature will be removed in v6.0.0. See https://github.com/optuna/optuna/releases/tag/v3.0.0. Use :func:`~optuna.trial.Trial.suggest_float` instead.\n",
            "  learning_rate = trial.suggest_loguniform('learning_rate', 0.01, 0.1)\n",
            "<ipython-input-9-86e96d8da5df>:11: FutureWarning: suggest_uniform has been deprecated in v3.0.0. This feature will be removed in v6.0.0. See https://github.com/optuna/optuna/releases/tag/v3.0.0. Use :func:`~optuna.trial.Trial.suggest_float` instead.\n",
            "  gamma = trial.suggest_uniform('gamma', 0.01, 0.99)\n",
            "\u001b[32m[I 2023-05-22 18:03:00,970]\u001b[0m Trial 0 finished with value: 68.23 and parameters: {'learning_rate': 0.02637802560542686, 'step_size': 9, 'gamma': 0.24712315124208378}. Best is trial 0 with value: 68.23.\u001b[0m\n",
            "\u001b[32m[I 2023-05-22 18:03:30,608]\u001b[0m Trial 1 finished with value: 54.76 and parameters: {'learning_rate': 0.010338735667478907, 'step_size': 2, 'gamma': 0.8061229377137479}. Best is trial 0 with value: 68.23.\u001b[0m\n",
            "\u001b[32m[I 2023-05-22 18:03:59,339]\u001b[0m Trial 2 finished with value: 64.67 and parameters: {'learning_rate': 0.06216431808990478, 'step_size': 9, 'gamma': 0.8467216476904583}. Best is trial 0 with value: 68.23.\u001b[0m\n",
            "\u001b[32m[I 2023-05-22 18:04:28,402]\u001b[0m Trial 3 finished with value: 39.47 and parameters: {'learning_rate': 0.020641678446490886, 'step_size': 1, 'gamma': 0.18457914851643062}. Best is trial 0 with value: 68.23.\u001b[0m\n",
            "\u001b[32m[I 2023-05-22 18:04:57,100]\u001b[0m Trial 4 finished with value: 45.75 and parameters: {'learning_rate': 0.010584020317857837, 'step_size': 1, 'gamma': 0.5942431166556005}. Best is trial 0 with value: 68.23.\u001b[0m\n",
            "\u001b[32m[I 2023-05-22 18:05:25,845]\u001b[0m Trial 5 finished with value: 66.69 and parameters: {'learning_rate': 0.08387310523409777, 'step_size': 6, 'gamma': 0.40629849267523976}. Best is trial 0 with value: 68.23.\u001b[0m\n",
            "\u001b[32m[I 2023-05-22 18:05:55,095]\u001b[0m Trial 6 finished with value: 65.75 and parameters: {'learning_rate': 0.07678473063997548, 'step_size': 9, 'gamma': 0.8041350852644271}. Best is trial 0 with value: 68.23.\u001b[0m\n",
            "\u001b[32m[I 2023-05-22 18:06:23,745]\u001b[0m Trial 7 finished with value: 58.32 and parameters: {'learning_rate': 0.0326970845395735, 'step_size': 2, 'gamma': 0.22174312903534477}. Best is trial 0 with value: 68.23.\u001b[0m\n",
            "\u001b[32m[I 2023-05-22 18:06:52,379]\u001b[0m Trial 8 finished with value: 66.5 and parameters: {'learning_rate': 0.03290905953820757, 'step_size': 6, 'gamma': 0.7430560379982618}. Best is trial 0 with value: 68.23.\u001b[0m\n",
            "\u001b[32m[I 2023-05-22 18:07:21,321]\u001b[0m Trial 9 finished with value: 68.04 and parameters: {'learning_rate': 0.035849659173632614, 'step_size': 8, 'gamma': 0.4411007695209298}. Best is trial 0 with value: 68.23.\u001b[0m\n",
            "\u001b[32m[I 2023-05-22 18:07:50,777]\u001b[0m Trial 10 finished with value: 58.78 and parameters: {'learning_rate': 0.02059611501132636, 'step_size': 5, 'gamma': 0.02141712378881741}. Best is trial 0 with value: 68.23.\u001b[0m\n",
            "\u001b[32m[I 2023-05-22 18:08:19,467]\u001b[0m Trial 11 finished with value: 67.25 and parameters: {'learning_rate': 0.045395750676216304, 'step_size': 8, 'gamma': 0.4341306679108693}. Best is trial 0 with value: 68.23.\u001b[0m\n",
            "\u001b[32m[I 2023-05-22 18:08:48,503]\u001b[0m Trial 12 finished with value: 67.99 and parameters: {'learning_rate': 0.0540292617111037, 'step_size': 7, 'gamma': 0.5639490136637896}. Best is trial 0 with value: 68.23.\u001b[0m\n",
            "\u001b[32m[I 2023-05-22 18:09:17,494]\u001b[0m Trial 13 finished with value: 67.41 and parameters: {'learning_rate': 0.04049295699468209, 'step_size': 4, 'gamma': 0.3295626690610961}. Best is trial 0 with value: 68.23.\u001b[0m\n",
            "\u001b[32m[I 2023-05-22 18:09:46,096]\u001b[0m Trial 14 finished with value: 65.61 and parameters: {'learning_rate': 0.024135361824882434, 'step_size': 8, 'gamma': 0.9880538469599285}. Best is trial 0 with value: 68.23.\u001b[0m\n",
            "\u001b[32m[I 2023-05-22 18:10:15,047]\u001b[0m Trial 15 finished with value: 67.08 and parameters: {'learning_rate': 0.02715968799415044, 'step_size': 8, 'gamma': 0.2833387082394926}. Best is trial 0 with value: 68.23.\u001b[0m\n",
            "\u001b[32m[I 2023-05-22 18:10:44,130]\u001b[0m Trial 16 finished with value: 63.8 and parameters: {'learning_rate': 0.016233973802564174, 'step_size': 9, 'gamma': 0.4916931304845869}. Best is trial 0 with value: 68.23.\u001b[0m\n",
            "\u001b[32m[I 2023-05-22 18:11:12,919]\u001b[0m Trial 17 finished with value: 68.27 and parameters: {'learning_rate': 0.039419807402341196, 'step_size': 7, 'gamma': 0.14288790361955045}. Best is trial 17 with value: 68.27.\u001b[0m\n",
            "\u001b[32m[I 2023-05-22 18:11:42,160]\u001b[0m Trial 18 finished with value: 66.38 and parameters: {'learning_rate': 0.05081712821259726, 'step_size': 6, 'gamma': 0.05074403359602625}. Best is trial 17 with value: 68.27.\u001b[0m\n",
            "\u001b[32m[I 2023-05-22 18:12:11,486]\u001b[0m Trial 19 finished with value: 68.18 and parameters: {'learning_rate': 0.06414284678128976, 'step_size': 4, 'gamma': 0.14241158533214646}. Best is trial 17 with value: 68.27.\u001b[0m\n",
            "\u001b[32m[I 2023-05-22 18:12:40,426]\u001b[0m Trial 20 finished with value: 68.03 and parameters: {'learning_rate': 0.03729626962782863, 'step_size': 7, 'gamma': 0.12218620260963578}. Best is trial 17 with value: 68.27.\u001b[0m\n",
            "\u001b[32m[I 2023-05-22 18:13:09,465]\u001b[0m Trial 21 finished with value: 69.62 and parameters: {'learning_rate': 0.09573671919685632, 'step_size': 4, 'gamma': 0.157894070420464}. Best is trial 21 with value: 69.62.\u001b[0m\n",
            "\u001b[32m[I 2023-05-22 18:13:38,825]\u001b[0m Trial 22 finished with value: 69.91 and parameters: {'learning_rate': 0.09769826486956877, 'step_size': 4, 'gamma': 0.25889295300307336}. Best is trial 22 with value: 69.91.\u001b[0m\n",
            "\u001b[32m[I 2023-05-22 18:14:07,724]\u001b[0m Trial 23 finished with value: 68.54 and parameters: {'learning_rate': 0.09816433447274901, 'step_size': 4, 'gamma': 0.10668570293161808}. Best is trial 22 with value: 69.91.\u001b[0m\n",
            "\u001b[32m[I 2023-05-22 18:14:36,770]\u001b[0m Trial 24 finished with value: 69.04 and parameters: {'learning_rate': 0.0996137995668609, 'step_size': 4, 'gamma': 0.3239944239989587}. Best is trial 22 with value: 69.91.\u001b[0m\n",
            "\u001b[32m[I 2023-05-22 18:15:05,945]\u001b[0m Trial 25 finished with value: 69.28 and parameters: {'learning_rate': 0.09131501583098692, 'step_size': 3, 'gamma': 0.3321264305832037}. Best is trial 22 with value: 69.91.\u001b[0m\n",
            "\u001b[32m[I 2023-05-22 18:15:35,021]\u001b[0m Trial 26 finished with value: 67.78 and parameters: {'learning_rate': 0.07771571347601941, 'step_size': 3, 'gamma': 0.23262887087641543}. Best is trial 22 with value: 69.91.\u001b[0m\n",
            "\u001b[32m[I 2023-05-22 18:16:04,633]\u001b[0m Trial 27 finished with value: 67.53 and parameters: {'learning_rate': 0.06778430522894435, 'step_size': 3, 'gamma': 0.31449924167435406}. Best is trial 22 with value: 69.91.\u001b[0m\n",
            "\u001b[32m[I 2023-05-22 18:16:33,789]\u001b[0m Trial 28 finished with value: 68.66 and parameters: {'learning_rate': 0.08922655959782472, 'step_size': 3, 'gamma': 0.19854704407128757}. Best is trial 22 with value: 69.91.\u001b[0m\n",
            "\u001b[32m[I 2023-05-22 18:17:02,473]\u001b[0m Trial 29 finished with value: 68.62 and parameters: {'learning_rate': 0.07590052210171148, 'step_size': 5, 'gamma': 0.252028430478366}. Best is trial 22 with value: 69.91.\u001b[0m\n",
            "\u001b[32m[I 2023-05-22 18:17:31,378]\u001b[0m Trial 30 finished with value: 67.18 and parameters: {'learning_rate': 0.08934146882348089, 'step_size': 2, 'gamma': 0.3445225529283441}. Best is trial 22 with value: 69.91.\u001b[0m\n",
            "\u001b[32m[I 2023-05-22 18:18:00,615]\u001b[0m Trial 31 finished with value: 66.87 and parameters: {'learning_rate': 0.09550970912579612, 'step_size': 5, 'gamma': 0.3555313502572203}. Best is trial 22 with value: 69.91.\u001b[0m\n",
            "\u001b[32m[I 2023-05-22 18:18:29,398]\u001b[0m Trial 32 finished with value: 69.26 and parameters: {'learning_rate': 0.09780581339760144, 'step_size': 4, 'gamma': 0.26787296846980274}. Best is trial 22 with value: 69.91.\u001b[0m\n",
            "\u001b[32m[I 2023-05-22 18:18:58,042]\u001b[0m Trial 33 finished with value: 67.13 and parameters: {'learning_rate': 0.06962124934030817, 'step_size': 3, 'gamma': 0.24342675763985008}. Best is trial 22 with value: 69.91.\u001b[0m\n",
            "\u001b[32m[I 2023-05-22 18:19:27,397]\u001b[0m Trial 34 finished with value: 68.74 and parameters: {'learning_rate': 0.08246177366749759, 'step_size': 4, 'gamma': 0.27989383857647193}. Best is trial 22 with value: 69.91.\u001b[0m\n",
            "\u001b[32m[I 2023-05-22 18:19:56,223]\u001b[0m Trial 35 finished with value: 66.19 and parameters: {'learning_rate': 0.05933234700445936, 'step_size': 3, 'gamma': 0.18889362998194742}. Best is trial 22 with value: 69.91.\u001b[0m\n",
            "\u001b[32m[I 2023-05-22 18:20:25,417]\u001b[0m Trial 36 finished with value: 68.95 and parameters: {'learning_rate': 0.09957023455688073, 'step_size': 5, 'gamma': 0.09282394670727676}. Best is trial 22 with value: 69.91.\u001b[0m\n",
            "\u001b[32m[I 2023-05-22 18:20:54,692]\u001b[0m Trial 37 finished with value: 59.87 and parameters: {'learning_rate': 0.07240981327824787, 'step_size': 1, 'gamma': 0.38619971580635964}. Best is trial 22 with value: 69.91.\u001b[0m\n",
            "\u001b[32m[I 2023-05-22 18:21:23,664]\u001b[0m Trial 38 finished with value: 65.9 and parameters: {'learning_rate': 0.08388688399943811, 'step_size': 2, 'gamma': 0.28755308203222774}. Best is trial 22 with value: 69.91.\u001b[0m\n",
            "\u001b[32m[I 2023-05-22 18:21:52,370]\u001b[0m Trial 39 finished with value: 68.22 and parameters: {'learning_rate': 0.06072104664084511, 'step_size': 4, 'gamma': 0.18729299911478692}. Best is trial 22 with value: 69.91.\u001b[0m\n",
            "\u001b[32m[I 2023-05-22 18:22:21,814]\u001b[0m Trial 40 finished with value: 67.38 and parameters: {'learning_rate': 0.08471290472554313, 'step_size': 3, 'gamma': 0.1631637508213923}. Best is trial 22 with value: 69.91.\u001b[0m\n",
            "\u001b[32m[I 2023-05-22 18:22:50,477]\u001b[0m Trial 41 finished with value: 68.11 and parameters: {'learning_rate': 0.0970269979500783, 'step_size': 4, 'gamma': 0.3581222274570047}. Best is trial 22 with value: 69.91.\u001b[0m\n",
            "\u001b[32m[I 2023-05-22 18:23:19,143]\u001b[0m Trial 42 finished with value: 70.02 and parameters: {'learning_rate': 0.0754019314729869, 'step_size': 4, 'gamma': 0.2336911103165824}. Best is trial 42 with value: 70.02.\u001b[0m\n",
            "\u001b[32m[I 2023-05-22 18:23:48,462]\u001b[0m Trial 43 finished with value: 68.68 and parameters: {'learning_rate': 0.0748116198894323, 'step_size': 5, 'gamma': 0.23027109025214}. Best is trial 42 with value: 70.02.\u001b[0m\n",
            "\u001b[32m[I 2023-05-22 18:24:17,644]\u001b[0m Trial 44 finished with value: 66.69 and parameters: {'learning_rate': 0.08316868278005425, 'step_size': 2, 'gamma': 0.2594257496758295}. Best is trial 42 with value: 70.02.\u001b[0m\n",
            "\u001b[32m[I 2023-05-22 18:24:46,434]\u001b[0m Trial 45 finished with value: 68.96 and parameters: {'learning_rate': 0.08925362540806929, 'step_size': 6, 'gamma': 0.2018203144508588}. Best is trial 42 with value: 70.02.\u001b[0m\n",
            "\u001b[32m[I 2023-05-22 18:25:15,679]\u001b[0m Trial 46 finished with value: 68.13 and parameters: {'learning_rate': 0.06540449510659277, 'step_size': 4, 'gamma': 0.1654900779501907}. Best is trial 42 with value: 70.02.\u001b[0m\n",
            "\u001b[32m[I 2023-05-22 18:25:44,431]\u001b[0m Trial 47 finished with value: 68.77 and parameters: {'learning_rate': 0.07237077761736511, 'step_size': 3, 'gamma': 0.4001449079254695}. Best is trial 42 with value: 70.02.\u001b[0m\n",
            "\u001b[32m[I 2023-05-22 18:26:13,455]\u001b[0m Trial 48 finished with value: 70.06 and parameters: {'learning_rate': 0.07861810339506409, 'step_size': 5, 'gamma': 0.06876893199313328}. Best is trial 48 with value: 70.06.\u001b[0m\n",
            "\u001b[32m[I 2023-05-22 18:26:42,772]\u001b[0m Trial 49 finished with value: 68.58 and parameters: {'learning_rate': 0.05905826668105741, 'step_size': 5, 'gamma': 0.07257926635170636}. Best is trial 48 with value: 70.06.\u001b[0m\n"
          ]
        },
        {
          "name": "stdout",
          "output_type": "stream",
          "text": [
            "Epoch [10/10], Training Loss: 0.9766, Training Acc: 77.8250, Val Loss: 1.6081, Validation Acc: 68.5800\n"
          ]
        }
      ],
      "source": [
        "device = torch.device(\"cuda:0\" if torch.cuda.is_available() else \"cpu\")\n",
        "\n",
        "# Define the lists to store the losses and accuracies\n",
        "train_loss = []\n",
        "train_acc = []\n",
        "valid_loss = []\n",
        "valid_acc = []\n",
        "num_epochs = 10\n",
        "\n",
        "# Create an Optuna study and optimize the objective function\n",
        "study = optuna.create_study(direction='maximize')\n",
        "study.optimize(objective, n_trials=50)\n",
        "\n",
        "# Print epoch and losses\n",
        "print('Epoch [{}/{}], Training Loss: {:.4f}, Training Acc: {:.4f}, Val Loss: {:.4f}, Validation Acc: {:.4f}'\n",
        "          .format(epoch + 1, num_epochs, train_loss[-1], train_acc[-1], valid_loss[-1], valid_acc[-1]))\n"
      ]
    },
    {
      "cell_type": "markdown",
      "source": [
        "After 50 trials the hyperparameters with the highest validation accuracy is then saved and input into the model again and finally training on the test dataset which has not seen in the training process, we do not use the validation dataset as the final process of benchmarking the model because there could have been data leakage during the hyperparameter process that fits the model to specific qualities found in the validation dataset. We train it lastly on the test dataset which is unseen to ensure the model is able to generalise and is robust when met with new data."
      ],
      "metadata": {
        "id": "1p_xNk0FKqeu"
      }
    },
    {
      "cell_type": "code",
      "execution_count": null,
      "metadata": {
        "colab": {
          "base_uri": "https://localhost:8080/",
          "height": 623
        },
        "id": "7E0CDCXoODDk",
        "outputId": "173128f1-bd35-43f1-f877-6246a82be906"
      },
      "outputs": [
        {
          "name": "stdout",
          "output_type": "stream",
          "text": [
            "Epoch [1/10], Training Loss: 1.4277, Training Acc: 48.6550        Val Loss: 1.0837, Validation Acc: 55.4000\n",
            "Epoch [2/10], Training Loss: 1.2090, Training Acc: 59.3175        Val Loss: 0.9291, Validation Acc: 61.4000\n",
            "Epoch [3/10], Training Loss: 0.9345, Training Acc: 64.5550        Val Loss: 1.2085, Validation Acc: 62.6500\n",
            "Epoch [4/10], Training Loss: 0.6275, Training Acc: 69.0675        Val Loss: 0.9559, Validation Acc: 66.1000\n",
            "Epoch [5/10], Training Loss: 0.6425, Training Acc: 72.8125        Val Loss: 1.1409, Validation Acc: 64.2800\n",
            "Epoch [6/10], Training Loss: 0.7491, Training Acc: 82.6150        Val Loss: 0.7049, Validation Acc: 69.5300\n",
            "Epoch [7/10], Training Loss: 0.4275, Training Acc: 84.2425        Val Loss: 0.9990, Validation Acc: 69.2300\n",
            "Epoch [8/10], Training Loss: 0.4110, Training Acc: 85.4150        Val Loss: 0.6663, Validation Acc: 69.6000\n",
            "Epoch [9/10], Training Loss: 0.4471, Training Acc: 86.2075        Val Loss: 1.1428, Validation Acc: 69.6200\n",
            "Epoch [10/10], Training Loss: 0.4902, Training Acc: 86.9150        Val Loss: 1.2986, Validation Acc: 69.7100\n"
          ]
        },
        {
          "data": {
            "image/png": "[encoded data removed]",
            "text/plain": [
              "<Figure size 640x480 with 1 Axes>"
            ]
          },
          "metadata": {},
          "output_type": "display_data"
        }
      ],
      "source": [
        "best_params = study.best_params\n",
        "learning_rate = best_params['learning_rate']\n",
        "step_size = best_params['step_size']\n",
        "gamma = best_params['gamma']\n",
        "\n",
        "criterion = nn.CrossEntropyLoss()\n",
        "optimizer = optim.SGD(model.parameters(), lr=learning_rate)\n",
        "scheduler = StepLR(optimizer, step_size=step_size, gamma=gamma)\n",
        "\n",
        "# Train the model and track loss and accuracy\n",
        "train_loss = []\n",
        "train_acc = []\n",
        "valid_loss = []\n",
        "valid_acc = []\n",
        "num_epochs = 10\n",
        "\n",
        "for epoch in range(num_epochs):\n",
        "    # Train the model\n",
        "    model.train()\n",
        "    correct = 0\n",
        "    total = 0\n",
        "    for i, (inputs, labels) in enumerate(train_loader):\n",
        "        inputs = inputs.to(device)\n",
        "        labels = labels.to(device)\n",
        "\n",
        "        # Forward pass\n",
        "        outputs = model(inputs)\n",
        "\n",
        "        # Compute loss\n",
        "        loss = criterion(outputs, labels)\n",
        "\n",
        "        # Backward pass and optimization\n",
        "        optimizer.zero_grad()\n",
        "        loss.backward()\n",
        "        optimizer.step()\n",
        "\n",
        "        # Save training loss\n",
        "        train_loss.append(loss.item())\n",
        "\n",
        "        # Calculate training accuracy\n",
        "        _, predicted = torch.max(outputs.data, 1)\n",
        "        total += labels.size(0)\n",
        "        correct += (predicted == labels).sum().item()\n",
        "    train_acc.append(100 * correct / total)\n",
        "\n",
        "    # Update the learning rate\n",
        "    scheduler.step()\n",
        "\n",
        "    # Evaluate the model on the validation set\n",
        "    model.eval()\n",
        "    correct = 0\n",
        "    total = 0\n",
        "    with torch.no_grad():\n",
        "        for inputs, labels in val_loader:\n",
        "            inputs = inputs.to(device)\n",
        "            labels = labels.to(device)\n",
        "\n",
        "            # Forward pass\n",
        "            outputs = model(inputs)\n",
        "\n",
        "            # Compute loss\n",
        "            loss = criterion(outputs, labels)\n",
        "\n",
        "            # Save validation loss\n",
        "            valid_loss.append(loss.item())\n",
        "\n",
        "            # Calculate validation accuracy\n",
        "            _, predicted = torch.max(outputs.data, 1)\n",
        "            total += labels.size(0)\n",
        "            correct += (predicted == labels).sum().item()\n",
        "    valid_acc.append(100 * correct / total)\n",
        "\n",
        "    # Print epoch and losses\n",
        "    print('Epoch [{}/{}], Training Loss: {:.4f}, Training Acc: {:.4f}        Val Loss: {:.4f}, Validation Acc: {:.4f}'\n",
        "          .format(epoch+1, num_epochs, train_loss[-1], train_acc[-1], valid_loss[-1], valid_acc[-1]))\n",
        "\n",
        "# Plot the loss and accuracy over epochs\n",
        "plt.plot(train_acc, label='Training Accuracy')\n",
        "plt.plot(valid_acc, label='Validation Accuracy')\n",
        "plt.xlabel('Epoch')\n",
        "plt.ylabel('Accuracy')\n",
        "plt.legend()\n",
        "plt.show()\n"
      ]
    },
    {
      "cell_type": "markdown",
      "source": [
        "After hyperparameter tuning the accuracy has gone from 54% to 70% which is quite a respectable increase considering the underlying architecture wasn't changed and only 10 epochs were used."
      ],
      "metadata": {
        "id": "d5R0L-AlMKf6"
      }
    }
  ],
  "metadata": {
    "colab": {
      "provenance": []
    },
    "gpuClass": "standard",
    "kernelspec": {
      "display_name": "Python 3",
      "name": "python3"
    },
    "language_info": {
      "name": "python"
    }
  },
  "nbformat": 4,
  "nbformat_minor": 0
}